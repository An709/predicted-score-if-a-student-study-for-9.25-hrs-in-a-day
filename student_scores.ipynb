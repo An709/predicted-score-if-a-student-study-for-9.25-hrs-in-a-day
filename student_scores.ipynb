{
 "cells": [
  {
   "cell_type": "code",
   "execution_count": 1,
   "metadata": {},
   "outputs": [],
   "source": [
    "#import the library\n",
    "import numpy as np\n",
    "import pandas as pd\n",
    "import matplotlib.pyplot as plt"
   ]
  },
  {
   "cell_type": "code",
   "execution_count": 2,
   "metadata": {},
   "outputs": [
    {
     "name": "stdout",
     "output_type": "stream",
     "text": [
      "(25, 2)\n"
     ]
    }
   ],
   "source": [
    "#Data Loading\n",
    "df=pd.read_csv(\"student_scores - student_scores.csv\")\n",
    "print(df.shape)"
   ]
  },
  {
   "cell_type": "code",
   "execution_count": 3,
   "metadata": {},
   "outputs": [
    {
     "name": "stdout",
     "output_type": "stream",
     "text": [
      "   Hours  Scores\n",
      "0    2.5      21\n",
      "1    5.1      47\n",
      "2    3.2      27\n",
      "3    8.5      75\n",
      "4    3.5      30\n"
     ]
    }
   ],
   "source": [
    "#Trainning Testing Data\n",
    "X=df.iloc[:,:-1].values\n",
    "y=df.iloc[:,1]. values\n",
    "print (df.head())"
   ]
  },
  {
   "cell_type": "code",
   "execution_count": 4,
   "metadata": {},
   "outputs": [
    {
     "data": {
      "text/plain": [
       "Ellipsis"
      ]
     },
     "execution_count": 4,
     "metadata": {},
     "output_type": "execute_result"
    }
   ],
   "source": [
    " from sklearn.model_selection import train_test_split\n",
    "X_train, X_test, y_train, y_test = train_test_split(X, y, test_size=0.33, random_state=0)\n",
    "..."
   ]
  },
  {
   "cell_type": "code",
   "execution_count": 5,
   "metadata": {},
   "outputs": [
    {
     "name": "stdout",
     "output_type": "stream",
     "text": [
      "0.9526104408489621\n",
      "[9.69062469]\n",
      "2.5069547569547623\n"
     ]
    }
   ],
   "source": [
    " from sklearn.linear_model import LinearRegression\n",
    "regressors=LinearRegression()\n",
    "regressors.fit(X_train,y_train)\n",
    "print(regressors.score(X,y))\n",
    "print(regressors.coef_)\n",
    "print(regressors.intercept_)"
   ]
  },
  {
   "cell_type": "code",
   "execution_count": 6,
   "metadata": {},
   "outputs": [
    {
     "data": {
      "image/png": "[encoded data removed]",
      "text/plain": [
       "<Figure size 432x288 with 1 Axes>"
      ]
     },
     "metadata": {
      "needs_background": "light"
     },
     "output_type": "display_data"
    }
   ],
   "source": [
    "#data visualisation\n",
    "plt.scatter(X_train,y_train)\n",
    "plt.title('Student education details')\n",
    "plt.xlabel('Hours spend on Study')\n",
    "plt.ylabel('Score obtained')\n",
    "plt.show()"
   ]
  },
  {
   "cell_type": "code",
   "execution_count": 7,
   "metadata": {},
   "outputs": [
    {
     "name": "stdout",
     "output_type": "stream",
     "text": [
      "   Observation data  Prediction of data\n",
      "0                20           17.042892\n",
      "1                27           33.516954\n",
      "2                69           74.217577\n",
      "3                30           26.733516\n",
      "4                62           59.681640\n",
      "5                35           39.331329\n",
      "6                24           20.919142\n",
      "7                86           78.093827\n",
      "8                76           69.372265\n"
     ]
    }
   ],
   "source": [
    "y_pred=regressors.predict(X_test)\n",
    "data=pd.DataFrame({'Observation data':y_test,'Prediction of data':y_pred})\n",
    "print (data)"
   ]
  },
  {
   "cell_type": "code",
   "execution_count": 8,
   "metadata": {},
   "outputs": [
    {
     "data": {
      "image/png": "[encoded data removed]",
      "text/plain": [
       "<Figure size 432x288 with 1 Axes>"
      ]
     },
     "metadata": {
      "needs_background": "light"
     },
     "output_type": "display_data"
    }
   ],
   "source": [
    "plt.hist(data)\n",
    "plt.show()"
   ]
  },
  {
   "cell_type": "code",
   "execution_count": null,
   "metadata": {},
   "outputs": [],
   "source": []
  }
 ],
 "metadata": {
  "kernelspec": {
   "display_name": "Python 3",
   "language": "python",
   "name": "python3"
  },
  "language_info": {
   "codemirror_mode": {
    "name": "ipython",
    "version": 3
   },
   "file_extension": ".py",
   "mimetype": "text/x-python",
   "name": "python",
   "nbconvert_exporter": "python",
   "pygments_lexer": "ipython3",
   "version": "3.8.3"
  }
 },
 "nbformat": 4,
 "nbformat_minor": 4
}
